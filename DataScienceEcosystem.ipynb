{
 "cells": [
  {
   "cell_type": "markdown",
   "id": "6e275da7-4dac-41c1-8b9e-1b74ba830857",
   "metadata": {},
   "source": [
    "# Data Science Tools and Ecosystem"
   ]
  },
  {
   "cell_type": "code",
   "execution_count": null,
   "id": "1afbd6db-0099-45cd-bb6d-c8eba02a2112",
   "metadata": {},
   "outputs": [],
   "source": []
  },
  {
   "cell_type": "markdown",
   "id": "d92662d5-24df-4b24-8fbc-a3d1e686de7c",
   "metadata": {},
   "source": [
    "In this notebook, we summarize Data Science Tools and Ecosystem."
   ]
  },
  {
   "cell_type": "code",
   "execution_count": null,
   "id": "f8ead14f-ce55-425d-8f08-09146d23fb3e",
   "metadata": {},
   "outputs": [],
   "source": []
  },
  {
   "cell_type": "markdown",
   "id": "e6b248c8-7f1a-4f20-b7d1-36911509ba4b",
   "metadata": {},
   "source": [
    "___Objectives:___\n",
    "* List popular languages for Data Science\n",
    "* Lists popular Data Science libraries\n",
    "* List development environment open source tools\n",
    "* Show proficiency in using Markdown and Code cells in Jupyter"
   ]
  },
  {
   "cell_type": "code",
   "execution_count": null,
   "id": "f7e64d40-a3f4-40e3-bfff-9f09e871f344",
   "metadata": {},
   "outputs": [],
   "source": []
  },
  {
   "cell_type": "markdown",
   "id": "5aeed70c-5943-4042-8641-1035f1732cb4",
   "metadata": {},
   "source": [
    "Some of the popular languages that Data Scientists use are:\n",
    "1. Python\n",
    "2. C++\n",
    "3. Java"
   ]
  },
  {
   "cell_type": "code",
   "execution_count": null,
   "id": "14c9dcc7-46e7-4064-a4b0-7b1bd3b17d9c",
   "metadata": {},
   "outputs": [],
   "source": []
  },
  {
   "cell_type": "markdown",
   "id": "44c3ed42-974d-4295-8163-ff937b045179",
   "metadata": {},
   "source": [
    "Some of the most commonly used libraries used by Data Scientists include:\n",
    "1. Scipy\n",
    "2. Ggplot\n",
    "3. Numpy"
   ]
  },
  {
   "cell_type": "code",
   "execution_count": null,
   "id": "d992634a-e55e-4733-bd27-5fa1f8e36101",
   "metadata": {},
   "outputs": [],
   "source": []
  },
  {
   "cell_type": "markdown",
   "id": "0bc2dde9-b217-4600-9c5b-cc3c759de7d8",
   "metadata": {},
   "source": [
    "|Data Science Tools |\n",
    "|---|\n",
    "|Jupyter|\n",
    "|Rstudio|\n",
    "|Githib|"
   ]
  },
  {
   "cell_type": "code",
   "execution_count": null,
   "id": "d0d25bce-23e1-4454-9b36-7b0888c2ff86",
   "metadata": {},
   "outputs": [],
   "source": []
  },
  {
   "cell_type": "markdown",
   "id": "0bd68b2d-e579-40c1-a08f-2834a8b6928d",
   "metadata": {},
   "source": [
    "### Below are a few examples of evaluating arithmetic expressions in Python"
   ]
  },
  {
   "cell_type": "code",
   "execution_count": null,
   "id": "0e1aad19-5d25-4861-ab74-53ab4c858308",
   "metadata": {},
   "outputs": [],
   "source": []
  },
  {
   "cell_type": "code",
   "execution_count": 16,
   "id": "b63832b3-7b96-4329-97ef-bdaad31725b0",
   "metadata": {},
   "outputs": [
    {
     "data": {
      "text/plain": [
       "17"
      ]
     },
     "execution_count": 16,
     "metadata": {},
     "output_type": "execute_result"
    }
   ],
   "source": [
    "#This is a simple arithmetic expression to multiply then add integers\n",
    "(3*4)+5"
   ]
  },
  {
   "cell_type": "code",
   "execution_count": null,
   "id": "6d0850ca-ab79-451e-8bd6-30459f941df4",
   "metadata": {},
   "outputs": [],
   "source": []
  },
  {
   "cell_type": "code",
   "execution_count": 18,
   "id": "676e2c44-9a63-41d3-b19b-1ff018e10ad2",
   "metadata": {},
   "outputs": [
    {
     "data": {
      "text/plain": [
       "3.3333333333333335"
      ]
     },
     "execution_count": 18,
     "metadata": {},
     "output_type": "execute_result"
    }
   ],
   "source": [
    "# This will cinvert 200 minutes to hours by dividing by 60\n",
    "200/60"
   ]
  },
  {
   "cell_type": "code",
   "execution_count": null,
   "id": "374e6508-779b-4fe7-ba87-1d18e83ff86f",
   "metadata": {},
   "outputs": [],
   "source": []
  },
  {
   "cell_type": "markdown",
   "id": "689db9c2-52e8-4c67-a4cf-5d152fb02f79",
   "metadata": {},
   "source": [
    "## Author\n",
    "Omar Mahfouz"
   ]
  }
 ],
 "metadata": {
  "kernelspec": {
   "display_name": "Python 3 (ipykernel)",
   "language": "python",
   "name": "python3"
  },
  "language_info": {
   "codemirror_mode": {
    "name": "ipython",
    "version": 3
   },
   "file_extension": ".py",
   "mimetype": "text/x-python",
   "name": "python",
   "nbconvert_exporter": "python",
   "pygments_lexer": "ipython3",
   "version": "3.11.7"
  }
 },
 "nbformat": 4,
 "nbformat_minor": 5
}
